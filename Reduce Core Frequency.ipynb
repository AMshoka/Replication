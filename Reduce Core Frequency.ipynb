{
 "cells": [
  {
   "cell_type": "code",
   "execution_count": 1,
   "metadata": {},
   "outputs": [],
   "source": [
    "from numpy import random\n",
    "import numpy as np\n",
    "import itertools \n",
    "fL=14\n",
    "f1=14\n",
    "d=3\n",
    "landaL=10**-6\n",
    "lookup={}"
   ]
  },
  {
   "cell_type": "code",
   "execution_count": 2,
   "metadata": {},
   "outputs": [],
   "source": [
    "def Create_Tasks(num,l):\n",
    "    Set_length=num\n",
    "    w, h = 4, Set_length;\n",
    "    Matrix = [[0 for x in range(w)] for y in range(h)]\n",
    "    x = random.uniform(0.1,100,size=(Set_length))\n",
    "    p=random.uniform(0.1,100,size=(Set_length))\n",
    "    p=np.sort(p)\n",
    "    x=np.sort(x)\n",
    "    for i in range(Set_length):\n",
    "        Matrix[i][0]=x[i]\n",
    "        Matrix[i][1]=Set_length-i\n",
    "        Matrix[i][2]=l-i #1.4GHz\n",
    "        Matrix[i][3]=p[i]\n",
    "        lookup[\"T\"+str(i+1)]=list(Matrix[i])    \n",
    "        \n",
    "    return lookup"
   ]
  },
  {
   "cell_type": "code",
   "execution_count": 3,
   "metadata": {},
   "outputs": [],
   "source": [
    "def Power_Time_Ratio(pj,pk,ck,cj):\n",
    "    R=(pj-pk)/(ck-cj)\n",
    "    return R"
   ]
  },
  {
   "cell_type": "code",
   "execution_count": 4,
   "metadata": {},
   "outputs": [],
   "source": [
    "def getList(dict): \n",
    "    list= [] \n",
    "    for key in dict.keys(): \n",
    "        list.append(key)\n",
    "          \n",
    "    return list"
   ]
  },
  {
   "cell_type": "code",
   "execution_count": 5,
   "metadata": {},
   "outputs": [
    {
     "name": "stdout",
     "output_type": "stream",
     "text": [
      "Tasks before reducing the frequency level:\n",
      "{'T1': [24.761083844537783, 5, 14, 2.79803978406474], 'T2': [64.73070067736401, 4, 13, 38.79609009986394], 'T3': [65.72259088884459, 3, 12, 64.82312988537156], 'T4': [70.4223444829209, 2, 11, 80.80351679812338], 'T5': [93.30413657671578, 1, 10, 91.36440855002735]}\n",
      "**********************************************\n",
      "The frequency level for Task T4 decreased\n",
      "The frequency level for Task T3 decreased\n",
      "The frequency level for Task T2 decreased\n",
      "The frequency level for Task T1 decreased\n",
      "The frequency level for Task T1 decreased\n",
      "The frequency level for Task T1 decreased\n",
      "The frequency level for Task T1 decreased\n",
      "The frequency level for Task T1 decreased\n",
      "The frequency level for Task T1 decreased\n",
      "The frequency level for Task T1 decreased\n",
      "**********************************************\n",
      "Tasks after reducing the frequency level:\n",
      "{'T1': [3169.418732100836, 5, 7, 0.02185968581300578], 'T2': [129.46140135472803, 4, 12, 19.39804504993197], 'T3': [131.44518177768919, 3, 11, 32.41156494268578], 'T4': [140.8446889658418, 2, 10, 40.40175839906169], 'T5': [93.30413657671578, 1, 10, 91.36440855002735]}\n"
     ]
    }
   ],
   "source": [
    "lookup={}\n",
    "Create_Tasks(5,fL)\n",
    "keys=getList(lookup)    \n",
    "keys\n",
    "print(\"Tasks before reducing the frequency level:\")\n",
    "print(lookup)\n",
    "print(\"**********************************************\")\n",
    "\n",
    "Rmax=0\n",
    "Tt=keys[4]\n",
    "Slack=100\n",
    "MTTFsys=4000\n",
    "MTTFth=5000\n",
    "while MTTFsys<MTTFth:\n",
    "    for i in range(len(keys)-1):\n",
    "        if(Slack>lookup[keys[i]][0]*2-lookup[keys[i]][0]and Power_Time_Ratio(lookup[keys[i]][3],lookup[keys[i]][3]/2,lookup[keys[i]][0]*2,lookup[keys[i]][0])and lookup[keys[i]][2]>lookup[keys[i+1]][2]):\n",
    "            Rmax=Power_Time_Ratio(lookup[keys[i]][3],lookup[keys[i]][3]/2,lookup[keys[i]][0]*2,lookup[keys[i]][0])\n",
    "            Tt=keys[i]\n",
    "    \n",
    "    print(\"The frequency level for Task \"+str(Tt)+\" decreased\")\n",
    "    lookup[Tt][2]=lookup[Tt][2]-1\n",
    "    lookup[Tt][0]=lookup[Tt][0]*2\n",
    "    lookup[Tt][3]=lookup[Tt][3]/2\n",
    "    MTTFsys=MTTFsys+100\n",
    "print(\"**********************************************\")\n",
    "print(\"Tasks after reducing the frequency level:\")\n",
    "print(lookup)\n",
    "\n",
    "        \n",
    "        "
   ]
  },
  {
   "cell_type": "code",
   "execution_count": null,
   "metadata": {},
   "outputs": [],
   "source": []
  },
  {
   "cell_type": "code",
   "execution_count": null,
   "metadata": {},
   "outputs": [],
   "source": []
  },
  {
   "cell_type": "code",
   "execution_count": null,
   "metadata": {},
   "outputs": [],
   "source": []
  },
  {
   "cell_type": "code",
   "execution_count": null,
   "metadata": {},
   "outputs": [],
   "source": []
  },
  {
   "cell_type": "code",
   "execution_count": null,
   "metadata": {},
   "outputs": [],
   "source": []
  }
 ],
 "metadata": {
  "kernelspec": {
   "display_name": "Python 3",
   "language": "python",
   "name": "python3"
  },
  "language_info": {
   "codemirror_mode": {
    "name": "ipython",
    "version": 3
   },
   "file_extension": ".py",
   "mimetype": "text/x-python",
   "name": "python",
   "nbconvert_exporter": "python",
   "pygments_lexer": "ipython3",
   "version": "3.8.5"
  }
 },
 "nbformat": 4,
 "nbformat_minor": 4
}
